{
 "cells": [
  {
   "cell_type": "markdown",
   "id": "7e408b5d-5c67-4ef0-ba0b-0d9deffdc025",
   "metadata": {},
   "source": [
    "✅ 선형회귀 모델 결과 요약:\n",
    "RMSE (Root Mean Squared Error): 약 5796.28\n",
    "→ 평균적으로 약 5,796 달러의 오차가 있음\n",
    "\n",
    "R² (설명력): 0.78\n",
    "→ 모델이 전체 보험료 변동의 약 78%를 설명할 수 있음\n",
    " \n",
    "✅ 데이터 필드명 \n",
    "age: 나이\n",
    "sex: 성별\n",
    "bmi: 체질량지수 (비만도 지표)\n",
    "children: 자녀 수\n",
    "smoker: 흡연 여부\n",
    "region: 지역\n",
    "charges: 보험료 (예측 대상) "
   ]
  },
  {
   "cell_type": "markdown",
   "id": "ff6f30e7-e86d-4a4d-a2c1-05873668e5d0",
   "metadata": {},
   "source": [
    "import pandas as pd\n",
    "import statsmodels.api as sm"
   ]
  },
  {
   "cell_type": "code",
   "execution_count": 6,
   "id": "ce902fc0-5141-4171-b79a-5650a43df5c7",
   "metadata": {},
   "outputs": [],
   "source": [
    "df = pd.read_csv(\"insurance.csv\")"
   ]
  },
  {
   "cell_type": "code",
   "execution_count": 49,
   "id": "cee8c1d4-5d76-4ae3-a2e2-90820c32898c",
   "metadata": {},
   "outputs": [],
   "source": [
    "X = df.drop(\"charges\", axis=1)  # 나머지 변수들: 예측에 사용하는 입력 변수\n",
    "y = df[\"charges\"]               # 예측할 대상: 보험료"
   ]
  },
  {
   "cell_type": "markdown",
   "id": "f4bafab1-3c85-4f0c-b50d-fbc672a0767d",
   "metadata": {},
   "source": [
    "✅범주형 변수는 숫자로 바꾸고, 숫자형 변수는 그대로 두는 전처리 설정 \n",
    "drop_first=True : 두 개의 열 중 첫 번째 열 삭제"
   ]
  },
  {
   "cell_type": "code",
   "execution_count": 51,
   "id": "49a06842-532b-4771-8f78-efd1d5fe1793",
   "metadata": {},
   "outputs": [],
   "source": [
    "X_encoded = pd.get_dummies(X, drop_first=True)"
   ]
  },
  {
   "cell_type": "markdown",
   "id": "94ba0f97-7626-4f99-854a-76b86c497558",
   "metadata": {},
   "source": [
    "sm.add_constant() : 회귀식에 기본요금 같은 숫자 하나를 더해주는 코드 (더 정확한 계산) \n",
    "즉, 데이터가 전부 0일 때도 기본 보험료는 얼마인지 알려주는 값 \n",
    "statsmodels라는 계산 도구는 기본으로는 이 상수항을 안 넣어줘."
   ]
  },
  {
   "cell_type": "code",
   "execution_count": 61,
   "id": "0f01e1f1-43f6-4a21-9609-ba9eb6699eb1",
   "metadata": {},
   "outputs": [],
   "source": [
    "X_encoded = sm.add_constant(X_encoded) #상수항 추가"
   ]
  },
  {
   "cell_type": "code",
   "execution_count": 63,
   "id": "c856cc9c-a2fa-4930-8dbb-7f3913254920",
   "metadata": {},
   "outputs": [],
   "source": [
    "X_encoded = X_encoded.astype(\"float64\") #데이터 타입 오류 방지 (float 통일)\n",
    "y = y.astype(\"float64\")"
   ]
  },
  {
   "cell_type": "markdown",
   "id": "c15dab4c-c806-4521-ab72-b8d507720980",
   "metadata": {},
   "source": [
    "✅선형 회귀 모델 만들고 학습 (OLS: 최소제곱법)"
   ]
  },
  {
   "cell_type": "code",
   "execution_count": 57,
   "id": "bf8aa8ae-3c38-4b7d-a29e-1ec9d69461d8",
   "metadata": {},
   "outputs": [],
   "source": [
    "model = sm.OLS(y, X_encoded).fit()"
   ]
  },
  {
   "cell_type": "code",
   "execution_count": null,
   "id": "31f6d5fc-7c71-44f2-ab07-806680bfe6fa",
   "metadata": {},
   "outputs": [],
   "source": [
    "✅결과 출력: 회귀계수, 유의확률(p-value), 신뢰구간 등 포함"
   ]
  },
  {
   "cell_type": "code",
   "execution_count": 59,
   "id": "cece8e06-d4cd-45b2-8a5a-5ff42a399500",
   "metadata": {},
   "outputs": [
    {
     "name": "stdout",
     "output_type": "stream",
     "text": [
      "                            OLS Regression Results                            \n",
      "==============================================================================\n",
      "Dep. Variable:                charges   R-squared:                       0.751\n",
      "Model:                            OLS   Adj. R-squared:                  0.749\n",
      "Method:                 Least Squares   F-statistic:                     500.8\n",
      "Date:                Sun, 04 May 2025   Prob (F-statistic):               0.00\n",
      "Time:                        23:04:14   Log-Likelihood:                -13548.\n",
      "No. Observations:                1338   AIC:                         2.711e+04\n",
      "Df Residuals:                    1329   BIC:                         2.716e+04\n",
      "Df Model:                           8                                         \n",
      "Covariance Type:            nonrobust                                         \n",
      "====================================================================================\n",
      "                       coef    std err          t      P>|t|      [0.025      0.975]\n",
      "------------------------------------------------------------------------------------\n",
      "const            -1.194e+04    987.819    -12.086      0.000   -1.39e+04      -1e+04\n",
      "age                256.8564     11.899     21.587      0.000     233.514     280.199\n",
      "bmi                339.1935     28.599     11.860      0.000     283.088     395.298\n",
      "children           475.5005    137.804      3.451      0.001     205.163     745.838\n",
      "sex_male          -131.3144    332.945     -0.394      0.693    -784.470     521.842\n",
      "smoker_yes        2.385e+04    413.153     57.723      0.000     2.3e+04    2.47e+04\n",
      "region_northwest  -352.9639    476.276     -0.741      0.459   -1287.298     581.370\n",
      "region_southeast -1035.0220    478.692     -2.162      0.031   -1974.097     -95.947\n",
      "region_southwest  -960.0510    477.933     -2.009      0.045   -1897.636     -22.466\n",
      "==============================================================================\n",
      "Omnibus:                      300.366   Durbin-Watson:                   2.088\n",
      "Prob(Omnibus):                  0.000   Jarque-Bera (JB):              718.887\n",
      "Skew:                           1.211   Prob(JB):                    7.86e-157\n",
      "Kurtosis:                       5.651   Cond. No.                         311.\n",
      "==============================================================================\n",
      "\n",
      "Notes:\n",
      "[1] Standard Errors assume that the covariance matrix of the errors is correctly specified.\n"
     ]
    }
   ],
   "source": [
    "print(model.summary())"
   ]
  },
  {
   "cell_type": "markdown",
   "id": "864c4e70-897b-45aa-8fa7-b18320975130",
   "metadata": {},
   "source": [
    "✅ 각 변수의 p-value (유의확률)\n",
    "smoker_yes : 0.000 -> 매우 유의함 (보험료에 강한 영향)\n",
    "age : 0.000 -> 유의함 (나이 높을수록 보험료 증가)\n",
    "bmi : 0.000 -> 유의함 (BMI 증가 시 보험료 증가)\n",
    "sex_male : 0.693 -> 유의하지 않음 (남녀 보험료 차이 없음)\n",
    "children : 0.001 -> 유의함 (자녀수 많을수록 보험료 ↑)"
   ]
  }
 ],
 "metadata": {
  "kernelspec": {
   "display_name": "Python [conda env:base] *",
   "language": "python",
   "name": "conda-base-py"
  },
  "language_info": {
   "codemirror_mode": {
    "name": "ipython",
    "version": 3
   },
   "file_extension": ".py",
   "mimetype": "text/x-python",
   "name": "python",
   "nbconvert_exporter": "python",
   "pygments_lexer": "ipython3",
   "version": "3.12.7"
  }
 },
 "nbformat": 4,
 "nbformat_minor": 5
}
